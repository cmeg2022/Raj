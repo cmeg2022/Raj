{
 "cells": [
  {
   "cell_type": "code",
   "execution_count": 1,
   "metadata": {},
   "outputs": [
    {
     "name": "stdout",
     "output_type": "stream",
     "text": [
      "1.047221606288473 0.010540449758166957\n",
      "1.0472386671312686 1.0472045459059403\n"
     ]
    }
   ],
   "source": [
    "import scipy.special as sp\n",
    "import numpy as np\n",
    "import sympy as sym\n",
    "\n",
    "#Define constants\n",
    "pi = np.pi\n",
    "\n",
    "#Material Inputs\n",
    "E = 210\n",
    "nu = 0.3\n",
    "mu = E/(2*(1+nu))\n",
    "epsilon11 = 0.001\n",
    "epsilon22 = 0.001\n",
    "epsilon33 = 0.001\n",
    "epsilon12 = 0\n",
    "epsilon23 = 0\n",
    "epsilon31 = 0\n",
    "\n",
    "#Define 3 semi radii (condition: a1>a2>a3)\n",
    "a1 = 24.001\n",
    "a2 = 24\n",
    "a3 = 12\n",
    "\n",
    "#Find k and theta\n",
    "theta = np.arcsin((1-(a3/a1)**2)**0.5)\n",
    "k = ((a1**2 - a2**2)/(a1**2 - a3**2))**0.5\n",
    "\n",
    "#Find F and E\n",
    "F = sp.ellipkinc(theta,k**2)\n",
    "E = sp.ellipeinc(theta,k**2)\n",
    "\n",
    "print(theta,k)\n",
    "print(F,E)"
   ]
  },
  {
   "cell_type": "code",
   "execution_count": 2,
   "metadata": {},
   "outputs": [
    {
     "name": "stdout",
     "output_type": "stream",
     "text": [
      "2.970571583906079 2.9707318697981977 6.625067160654896\n"
     ]
    }
   ],
   "source": [
    "#find I1, I2, I3\n",
    "I1 = 4*pi*a1*a2*a3*(F - E)/((a1**2 - a2**2)*((a1**2 - a3**2)**0.5))\n",
    "I3 = 4*pi*a1*a2*a3*(((a2*(a1**2-a3**2)**0.5)/(a1*a3)) - E)/((a2**2 - a3**2)*((a1**2 - a3**2)**0.5))\n",
    "I2 = 4*pi - I1 - I3\n",
    "print(I1,I2,I3)"
   ]
  },
  {
   "cell_type": "code",
   "execution_count": 3,
   "metadata": {},
   "outputs": [
    {
     "name": "stdout",
     "output_type": "stream",
     "text": [
      "0.00333901240529793 0.0033392198520490446 0.00845854064430398\n"
     ]
    }
   ],
   "source": [
    "I12 = (I2-I1)/(a1**2 - a2**2)\n",
    "#Finding I11 and I13\n",
    "x,y = sym.symbols('x y')\n",
    "eq1 = sym.Eq(3*x + I12 + y, 4*pi/a1**2)\n",
    "eq2 = sym.Eq(3*(a1**2)*x + (a2**2)*I12 + (a3**2)*y, 3*I1)\n",
    "sol = sym.solve([eq1, eq2], (x, y))\n",
    "\n",
    "I11 = sol[x]\n",
    "I13 = sol[y]\n",
    "print(I11,I12,I13)"
   ]
  },
  {
   "cell_type": "code",
   "execution_count": 4,
   "metadata": {},
   "outputs": [
    {
     "name": "stdout",
     "output_type": "stream",
     "text": [
      "0.00333921985220808 0.00333942877604844 0.00845910946957569\n"
     ]
    }
   ],
   "source": [
    "I23 = (I3-I2)/(a2**2 - a3**2)\n",
    "#Finding I22 and I21\n",
    "x,y = sym.symbols('x y')\n",
    "eq1 = sym.Eq(3*x + I23 + y, 4*pi/a2**2)\n",
    "eq2 = sym.Eq(3*(a2**2)*x + (a3**2)*I23 + (a1**2)*y, 3*I2)\n",
    "sol = sym.solve([eq1, eq2], (x, y))\n",
    "\n",
    "I22 = sol[x]\n",
    "I21 = sol[y]\n",
    "print(I21,I22,I23)\n"
   ]
  },
  {
   "cell_type": "code",
   "execution_count": 5,
   "metadata": {},
   "outputs": [
    {
     "name": "stdout",
     "output_type": "stream",
     "text": [
      "0.008458540644304048 0.00845910946957571 0.0234496041619456\n"
     ]
    }
   ],
   "source": [
    "I31 = (I1-I3)/(a3**2 - a1**2)\n",
    "#Finding I33 and I32\n",
    "x,y = sym.symbols('x y')\n",
    "eq1 = sym.Eq(3*x + I31 + y, 4*pi/a3**2)\n",
    "eq2 = sym.Eq(3*(a3**2)*x + (a1**2)*I31 + (a2**2)*y, 3*I3)\n",
    "sol = sym.solve([eq1, eq2], (x, y))\n",
    "\n",
    "I33 = sol[x]\n",
    "I32 = sol[y]\n",
    "print(I31,I32,I33)"
   ]
  },
  {
   "cell_type": "code",
   "execution_count": 6,
   "metadata": {},
   "outputs": [],
   "source": [
    "#Calculate sigma11\n",
    "t11 = (a1**2)*(3*I11 - 3*nu*I11 + nu*I21 + nu*I31)/(8*pi*(1-nu)*(1-2*nu))\n",
    "t12 = (1-2*nu)*(I1-nu*(I1+I2+I3))/(8*pi*(1-nu)*(1-2*nu))\n",
    "t13 = (1-nu)/(1-2*nu)\n",
    "t1 = (t11 + t12 - t13)*epsilon11\n",
    "\n",
    "t21 = (a2**2)*(I12 - nu*I12 + 3*nu*I22 + nu*I32)/(8*pi*(1-nu)*(1-2*nu))\n",
    "t22 = (1-2*nu)*(I1-nu*(I1+I2-I3))/(8*pi*(1-nu)*(1-2*nu))\n",
    "t23 = (nu)/(1-2*nu)\n",
    "t2 = (t21 - t22 - t23)*epsilon22\n",
    "\n",
    "t31 = (a3**2)*(I13 - nu*I13 + nu*I23 + 3*nu*I33)/(8*pi*(1-nu)*(1-2*nu))\n",
    "t32 = (1-2*nu)*(I1-nu*(I1-I2+I3))/(8*pi*(1-nu)*(1-2*nu))\n",
    "t33 = (nu)/(1-2*nu)\n",
    "t3 = (t31 - t32 - t33)*epsilon33\n",
    "\n",
    "sigma11 = (t1 + t2 + t3)*2*mu"
   ]
  },
  {
   "cell_type": "code",
   "execution_count": 7,
   "metadata": {},
   "outputs": [],
   "source": [
    "#calculate sigma22 using cyclic permutation of 1,2,3\n",
    "t22 = (a2**2)*(3*I22 - 3*nu*I22 + nu*I32 + nu*I12)/(8*pi*(1-nu)*(1-2*nu))\n",
    "t23 = (1-2*nu)*(I2-nu*(I2+I3+I1))/(8*pi*(1-nu)*(1-2*nu))\n",
    "t21 = (1-nu)/(1-2*nu)\n",
    "t2 = (t22 + t23 - t21)*epsilon22\n",
    "\n",
    "t32 = (a3**2)*(I23 - nu*I23 + 3*nu*I33 + nu*I13)/(8*pi*(1-nu)*(1-2*nu))\n",
    "t33 = (1-2*nu)*(I2-nu*(I2+I3-I1))/(8*pi*(1-nu)*(1-2*nu))\n",
    "t31 = (nu)/(1-2*nu)\n",
    "t3 = (t32 - t33 - t31)*epsilon33\n",
    "\n",
    "t12 = (a1**2)*(I21 - nu*I21 + nu*I31 + 3*nu*I11)/(8*pi*(1-nu)*(1-2*nu))\n",
    "t13 = (1-2*nu)*(I2-nu*(I2-I3+I1))/(8*pi*(1-nu)*(1-2*nu))\n",
    "t11 = (nu)/(1-2*nu)\n",
    "t1 = (t12 - t13 - t11)*epsilon11\n",
    "\n",
    "sigma22 = (t2 + t3 + t1)*2*mu\n"
   ]
  },
  {
   "cell_type": "code",
   "execution_count": 8,
   "metadata": {},
   "outputs": [],
   "source": [
    "#calculate sigma33 using cyclic permutation of 1,2,3\n",
    "t33 = (a3**2)*(3*I33 - 3*nu*I33 + nu*I13 + nu*I23)/(8*pi*(1-nu)*(1-2*nu))\n",
    "t31 = (1-2*nu)*(I3-nu*(I3+I1+I2))/(8*pi*(1-nu)*(1-2*nu))\n",
    "t32 = (1-nu)/(1-2*nu)\n",
    "t3 = (t33 + t31 - t32)*epsilon33\n",
    "\n",
    "t13 = (a1**2)*(I31 - nu*I31 + 3*nu*I11 + nu*I21)/(8*pi*(1-nu)*(1-2*nu))\n",
    "t11 = (1-2*nu)*(I3-nu*(I3+I1-I2))/(8*pi*(1-nu)*(1-2*nu))\n",
    "t12 = (nu)/(1-2*nu)\n",
    "t1 = (t13 - t11 - t12)*epsilon11\n",
    "\n",
    "t23 = (a2**2)*(I32 - nu*I32 + nu*I12 + 3*nu*I22)/(8*pi*(1-nu)*(1-2*nu))\n",
    "t21 = (1-2*nu)*(I3-nu*(I3-I1+I2))/(8*pi*(1-nu)*(1-2*nu))\n",
    "t22 = (nu)/(1-2*nu)\n",
    "t2 = (t23 - t21 - t22)*epsilon22\n",
    "\n",
    "sigma33 = (t3 + t1 + t2)*2*mu"
   ]
  },
  {
   "cell_type": "code",
   "execution_count": 9,
   "metadata": {},
   "outputs": [
    {
     "name": "stdout",
     "output_type": "stream",
     "text": [
      "-0.229080045138337 -0.229080041373763 -0.141839913487899\n"
     ]
    }
   ],
   "source": [
    "print(sigma11,sigma22,sigma33)"
   ]
  },
  {
   "cell_type": "code",
   "execution_count": 10,
   "metadata": {},
   "outputs": [
    {
     "name": "stdout",
     "output_type": "stream",
     "text": [
      "-0.0 -0.0 -0.0\n"
     ]
    }
   ],
   "source": [
    "#calculate sigma12 using cyclic permutation of 1,2,3\n",
    "t11 = (a1**2 + a2**2)*I12/(8*pi*(1-nu))\n",
    "t12 = (1-2*nu)*(I1+I2)/(8*pi*(1-nu))\n",
    "t13 = 1\n",
    "sigma12 = (t11 + t12 - t13)*epsilon12*2*mu\n",
    "\n",
    "#calculate sigma23 using cyclic permutation of 1,2,3\n",
    "t22 = (a2**2 + a3**2)*I23/(8*pi*(1-nu))\n",
    "t23 = (1-2*nu)*(I2+I3)/(8*pi*(1-nu))\n",
    "t21 = 1\n",
    "sigma23 = (t22 + t23 - t21)*epsilon23*2*mu\n",
    "\n",
    "#calculate sigma31 using cyclic permutation of 1,2,3\n",
    "t33 = (a3**2 + a1**2)*I31/(8*pi*(1-nu))\n",
    "t31 = (1-2*nu)*(I3+I1)/(8*pi*(1-nu))\n",
    "t32 = 1\n",
    "sigma31 = (t33 + t31 - t32)*epsilon31*2*mu\n",
    "\n",
    "print(sigma12,sigma23,sigma31)"
   ]
  }
 ],
 "metadata": {
  "kernelspec": {
   "display_name": "Python 3",
   "language": "python",
   "name": "python3"
  },
  "language_info": {
   "codemirror_mode": {
    "name": "ipython",
    "version": 3
   },
   "file_extension": ".py",
   "mimetype": "text/x-python",
   "name": "python",
   "nbconvert_exporter": "python",
   "pygments_lexer": "ipython3",
   "version": "3.10.6"
  },
  "orig_nbformat": 4,
  "vscode": {
   "interpreter": {
    "hash": "e7370f93d1d0cde622a1f8e1c04877d8463912d04d973331ad4851f04de6915a"
   }
  }
 },
 "nbformat": 4,
 "nbformat_minor": 2
}
